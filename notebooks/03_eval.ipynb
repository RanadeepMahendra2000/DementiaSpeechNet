{
  "cells": [
    {
      "cell_type": "code",
      "execution_count": null,
      "metadata": {},
      "outputs": [
        {
          "name": "stdout",
          "output_type": "stream",
          "text": [
            "Requirement already satisfied: datasets in c:\\users\\ranadeep mahendra\\anaconda3\\lib\\site-packages (3.3.2)\n",
            "Requirement already satisfied: filelock in c:\\users\\ranadeep mahendra\\anaconda3\\lib\\site-packages (from datasets) (3.4.2)\n",
            "Requirement already satisfied: numpy>=1.17 in c:\\users\\ranadeep mahendra\\anaconda3\\lib\\site-packages (from datasets) (1.26.4)\n",
            "Requirement already satisfied: pyarrow>=15.0.0 in c:\\users\\ranadeep mahendra\\anaconda3\\lib\\site-packages (from datasets) (15.0.0)\n",
            "Requirement already satisfied: dill<0.3.9,>=0.3.0 in c:\\users\\ranadeep mahendra\\anaconda3\\lib\\site-packages (from datasets) (0.3.8)\n",
            "Requirement already satisfied: pandas in c:\\users\\ranadeep mahendra\\anaconda3\\lib\\site-packages (from datasets) (2.2.2)\n",
            "Requirement already satisfied: requests>=2.32.2 in c:\\users\\ranadeep mahendra\\anaconda3\\lib\\site-packages (from datasets) (2.32.3)\n",
            "Requirement already satisfied: tqdm>=4.66.3 in c:\\users\\ranadeep mahendra\\anaconda3\\lib\\site-packages (from datasets) (4.67.1)\n",
            "Requirement already satisfied: xxhash in c:\\users\\ranadeep mahendra\\anaconda3\\lib\\site-packages (from datasets) (3.5.0)\n",
            "Requirement already satisfied: multiprocess<0.70.17 in c:\\users\\ranadeep mahendra\\anaconda3\\lib\\site-packages (from datasets) (0.70.16)\n",
            "Requirement already satisfied: fsspec<=2024.12.0,>=2023.1.0 in c:\\users\\ranadeep mahendra\\anaconda3\\lib\\site-packages (from fsspec[http]<=2024.12.0,>=2023.1.0->datasets) (2024.3.1)\n",
            "Requirement already satisfied: aiohttp in c:\\users\\ranadeep mahendra\\anaconda3\\lib\\site-packages (from datasets) (3.11.13)\n",
            "Requirement already satisfied: huggingface-hub>=0.24.0 in c:\\users\\ranadeep mahendra\\anaconda3\\lib\\site-packages (from datasets) (0.29.1)\n",
            "Requirement already satisfied: packaging in c:\\users\\ranadeep mahendra\\appdata\\roaming\\python\\python39\\site-packages (from datasets) (24.1)\n",
            "Requirement already satisfied: pyyaml>=5.1 in c:\\users\\ranadeep mahendra\\anaconda3\\lib\\site-packages (from datasets) (6.0)\n",
            "Requirement already satisfied: aiohappyeyeballs>=2.3.0 in c:\\users\\ranadeep mahendra\\anaconda3\\lib\\site-packages (from aiohttp->datasets) (2.4.6)\n",
            "Requirement already satisfied: aiosignal>=1.1.2 in c:\\users\\ranadeep mahendra\\anaconda3\\lib\\site-packages (from aiohttp->datasets) (1.3.2)\n",
            "Requirement already satisfied: async-timeout<6.0,>=4.0 in c:\\users\\ranadeep mahendra\\anaconda3\\lib\\site-packages (from aiohttp->datasets) (5.0.1)\n",
            "Requirement already satisfied: attrs>=17.3.0 in c:\\users\\ranadeep mahendra\\anaconda3\\lib\\site-packages (from aiohttp->datasets) (24.2.0)\n",
            "Requirement already satisfied: frozenlist>=1.1.1 in c:\\users\\ranadeep mahendra\\anaconda3\\lib\\site-packages (from aiohttp->datasets) (1.5.0)\n",
            "Requirement already satisfied: multidict<7.0,>=4.5 in c:\\users\\ranadeep mahendra\\anaconda3\\lib\\site-packages (from aiohttp->datasets) (6.1.0)\n",
            "Requirement already satisfied: propcache>=0.2.0 in c:\\users\\ranadeep mahendra\\anaconda3\\lib\\site-packages (from aiohttp->datasets) (0.3.0)\n",
            "Requirement already satisfied: yarl<2.0,>=1.17.0 in c:\\users\\ranadeep mahendra\\anaconda3\\lib\\site-packages (from aiohttp->datasets) (1.18.3)\n",
            "Requirement already satisfied: typing-extensions>=3.7.4.3 in c:\\users\\ranadeep mahendra\\appdata\\roaming\\python\\python39\\site-packages (from huggingface-hub>=0.24.0->datasets) (4.12.2)\n",
            "Requirement already satisfied: charset-normalizer<4,>=2 in c:\\users\\ranadeep mahendra\\anaconda3\\lib\\site-packages (from requests>=2.32.2->datasets) (2.0.4)\n",
            "Requirement already satisfied: idna<4,>=2.5 in c:\\users\\ranadeep mahendra\\anaconda3\\lib\\site-packages (from requests>=2.32.2->datasets) (3.10)\n",
            "Requirement already satisfied: urllib3<3,>=1.21.1 in c:\\users\\ranadeep mahendra\\anaconda3\\lib\\site-packages (from requests>=2.32.2->datasets) (1.22)\n",
            "Requirement already satisfied: certifi>=2017.4.17 in c:\\users\\ranadeep mahendra\\anaconda3\\lib\\site-packages (from requests>=2.32.2->datasets) (2024.2.2)\n",
            "Requirement already satisfied: colorama in c:\\users\\ranadeep mahendra\\appdata\\roaming\\python\\python39\\site-packages (from tqdm>=4.66.3->datasets) (0.4.6)\n",
            "Requirement already satisfied: python-dateutil>=2.8.2 in c:\\users\\ranadeep mahendra\\appdata\\roaming\\python\\python39\\site-packages (from pandas->datasets) (2.9.0.post0)\n",
            "Requirement already satisfied: pytz>=2020.1 in c:\\users\\ranadeep mahendra\\anaconda3\\lib\\site-packages (from pandas->datasets) (2021.3)\n",
            "Requirement already satisfied: tzdata>=2022.7 in c:\\users\\ranadeep mahendra\\anaconda3\\lib\\site-packages (from pandas->datasets) (2024.1)\n",
            "Requirement already satisfied: six>=1.5 in c:\\users\\ranadeep mahendra\\appdata\\roaming\\python\\python39\\site-packages (from python-dateutil>=2.8.2->pandas->datasets) (1.16.0)\n"
          ]
        },
        {
          "name": "stderr",
          "output_type": "stream",
          "text": [
            "\n",
            "[notice] A new release of pip is available: 25.0 -> 25.0.1\n",
            "[notice] To update, run: python.exe -m pip install --upgrade pip\n"
          ]
        },
        {
          "name": "stdout",
          "output_type": "stream",
          "text": [
            "Found existing installation: torch 2.6.0\n",
            "Uninstalling torch-2.6.0:\n",
            "  Successfully uninstalled torch-2.6.0\n",
            "Found existing installation: torchvision 0.18.0\n",
            "Uninstalling torchvision-0.18.0:\n",
            "  Successfully uninstalled torchvision-0.18.0\n",
            "Found existing installation: torchaudio 2.6.0\n",
            "Uninstalling torchaudio-2.6.0:\n",
            "  Successfully uninstalled torchaudio-2.6.0\n"
          ]
        }
      ],
      "source": [
        "!pip install datasets\n",
        "!pip uninstall torch torchvision torchaudio -y\n",
        "!pip install transformers\n",
        "!pip install torch torchvision torchaudio --index-url https://download.pytorch.org/whl/cpu"
      ]
    },
    {
      "cell_type": "code",
      "execution_count": 1,
      "metadata": {
        "colab": {
          "base_uri": "https://localhost:8080/"
        },
        "id": "0pgcSUmzcpv1",
        "outputId": "28901628-6a9e-4231-bc5a-7ec984862c58"
      },
      "outputs": [
        {
          "name": "stderr",
          "output_type": "stream",
          "text": [
            "c:\\Users\\Ranadeep Mahendra\\anaconda3\\lib\\site-packages\\torch\\utils\\_pytree.py:185: FutureWarning: optree is installed but the version is too old to support PyTorch Dynamo in C++ pytree. C++ pytree support is disabled. Please consider upgrading optree using `python3 -m pip install --upgrade 'optree>=0.13.0'`.\n",
            "  warnings.warn(\n"
          ]
        }
      ],
      "source": [
        "\n",
        "\n",
        "import numpy as np\n",
        "import pandas as pd\n",
        "\n",
        "from pathlib import Path\n",
        "from tqdm import tqdm\n",
        "\n",
        "import torch\n",
        "import torchaudio\n",
        "\n",
        "import os\n",
        "import sys\n",
        "\n",
        "from datasets import load_dataset\n",
        "from transformers import AutoConfig, Wav2Vec2FeatureExtractor\n",
        "\n",
        "from sklearn.metrics import classification_report"
      ]
    },
    {
      "cell_type": "code",
      "execution_count": null,
      "metadata": {
        "colab": {
          "base_uri": "https://localhost:8080/",
          "height": 98,
          "referenced_widgets": [
            "ab552314aab04e0582031157ff958ade",
            "5a7ba00d0c8c40cea513151c91c1226b",
            "83b4e71f907141bcb72f6ec7f6e324e5",
            "6da23fa42417422fb52ff4166db523cc",
            "96e1314152a94302b64da8d29f2ab903",
            "a7622431215c49a5b9925d66c3f71e88",
            "1cddce1229834d76bc0af1e9dc0c404d",
            "547cc08b86bb4491bd712d1ac86c2886",
            "efdf086202ba47e5af85e451b92cc813",
            "2478f3eafdd245b4b9be8106b17f5d26",
            "64ddc7c0eab541ec80807abe7e6e2297",
            "5d1c7a9e4a8f4d8d90a39370deef0e16",
            "f4573961ce8c44e9982c751dfdd44ab7",
            "1746e89193774fcdb70ea11be3ec597f",
            "95eea5bbd5034a7184d63aad0c935ded",
            "509a08d1e6ac4f8c85a5aaefddab4957",
            "3273639bb6494da4a55f6a3128204f1b",
            "b26f3e67b29248a38854f9ddf0c4765d",
            "6bda4a3756104fa183ada90a2b7e2bfc",
            "79af80d628f44b85b591d425d74a12ff",
            "6e43bbf0328445d9928104807ca6c554",
            "2f55b2742822415aadda5386ee415ea2"
          ]
        },
        "id": "mPxTVS6j9E_i",
        "outputId": "655f37b9-b1d6-4121-b986-c156a876250d"
      },
      "outputs": [
        {
          "data": {
            "application/vnd.jupyter.widget-view+json": {
              "model_id": "22448032a88f469485e13896d418b029",
              "version_major": 2,
              "version_minor": 0
            },
            "text/plain": [
              "Generating train split: 0 examples [00:00, ? examples/s]"
            ]
          },
          "metadata": {},
          "output_type": "display_data"
        },
        {
          "data": {
            "application/vnd.jupyter.widget-view+json": {
              "model_id": "2f4bfaa7c25147a8b2c9130f51f51a2a",
              "version_major": 2,
              "version_minor": 0
            },
            "text/plain": [
              "Generating valid split: 0 examples [00:00, ? examples/s]"
            ]
          },
          "metadata": {},
          "output_type": "display_data"
        },
        {
          "name": "stdout",
          "output_type": "stream",
          "text": [
            "Train Dataset Columns: ['file', 'label', 'path']\n",
            "Train Rows: 62, Test Rows: 64\n",
            "Unique Persons in Train: 62, Unique Persons in Test: 64\n",
            "Persons in both train and test: set()\n"
          ]
        }
      ],
      "source": [
        "\n",
        "# Base directory where audio files are stored\n",
        "base_path = \"E:\\\\assignments\\\\projects\\\\data\"\n",
        "\n",
        "# Function to dynamically get folder paths for each person's audio files\n",
        "def get_audio_folder_mapping(category):\n",
        "    folder_path = os.path.join(base_path, category)  # e.g., \"dementia\" or \"nodementia\"\n",
        "    folder_to_paths = {}\n",
        "\n",
        "    for folder in os.listdir(folder_path):  # Loop over folders (people's names)\n",
        "        person_path = os.path.join(folder_path, folder)\n",
        "        if os.path.isdir(person_path):  # Ensure it's a folder\n",
        "            folder_to_paths[folder] = person_path  # Store the folder path\n",
        "\n",
        "    return folder_to_paths\n",
        "\n",
        "# Get all available folders for dementia and no dementia\n",
        "dementia_folders = get_audio_folder_mapping(\"dementia\")\n",
        "nodementia_folders = get_audio_folder_mapping(\"nodementia\")\n",
        "\n",
        "# Combine both mappings\n",
        "all_audio_folders = {**dementia_folders, **nodementia_folders}\n",
        "\n",
        "# Load predefined train and test splits from CSV files\n",
        "train_csv = pd.read_csv(\"train.csv\")\n",
        "test_csv = pd.read_csv(\"test.csv\")\n",
        "\n",
        "# Convert to structured dataset (store only folder paths)\n",
        "# Convert to structured dataset (store only folder paths)\n",
        "file_data = []\n",
        "for person, folder_path in all_audio_folders.items():\n",
        "    # Check if the person is in train.csv or test.csv and use the actual label\n",
        "    if person in train_csv[\"file\"].values:\n",
        "        label = train_csv[train_csv[\"file\"] == person][\"label\"].values[0]\n",
        "    elif person in test_csv[\"file\"].values:\n",
        "        label = test_csv[test_csv[\"file\"] == person][\"label\"].values[0]\n",
        "    else:\n",
        "        continue  # Skip if the person is not found in train or test CSV\n",
        "\n",
        "    file_data.append({\"file\": person, \"label\": label, \"path\": folder_path})\n",
        "\n",
        "# Convert to DataFrame\n",
        "audio_dataset = pd.DataFrame(file_data)\n",
        "\n",
        "# Filter dataset using the predefined train and test splits\n",
        "train_data = audio_dataset[audio_dataset[\"file\"].isin(train_csv[\"file\"])]\n",
        "test_data = audio_dataset[audio_dataset[\"file\"].isin(test_csv[\"file\"])]\n",
        "\n",
        "# Save the fixed dataset\n",
        "train_data.to_csv(\"train_dataset_fixed.csv\", index=False)\n",
        "test_data.to_csv(\"test_dataset_fixed.csv\", index=False)\n",
        "\n",
        "# Load the dataset dynamically\n",
        "data_files = {\n",
        "    'train': \"train_dataset_fixed.csv\",\n",
        "    'valid': \"test_dataset_fixed.csv\"\n",
        "}\n",
        "\n",
        "# Load the dataset using Hugging Face's `datasets` library\n",
        "from datasets import load_dataset\n",
        "dataset = load_dataset(\"csv\", data_files=data_files)\n",
        "\n",
        "train_data = dataset['train']\n",
        "test_data = dataset['valid']\n",
        "\n",
        "# Verify column names and ensure train-test split is correct\n",
        "print(f\"Train Dataset Columns: {train_data.column_names}\")  # ['file', 'label', 'path']\n",
        "print(f\"Train Rows: {len(train_data)}, Test Rows: {len(test_data)}\")\n",
        "print(f\"Unique Persons in Train: {len(set(train_data['file']))}, Unique Persons in Test: {len(set(test_data['file']))}\")\n",
        "\n",
        "# Ensure no overlapping persons between train and test\n",
        "overlapping_files = set(train_data[\"file\"]).intersection(set(test_data[\"file\"]))\n",
        "print(f\"Persons in both train and test: {overlapping_files}\")  # Should print an empty set\n"
      ]
    },
    {
      "cell_type": "code",
      "execution_count": 3,
      "metadata": {
        "id": "uDCdbpsZcpv3"
      },
      "outputs": [],
      "source": [
        "input_col = 'path'\n",
        "output_col = 'label'"
      ]
    },
    {
      "cell_type": "code",
      "execution_count": 4,
      "metadata": {
        "colab": {
          "base_uri": "https://localhost:8080/"
        },
        "id": "VI484-Cfcpv4",
        "outputId": "160bbab0-e621-4921-c8c8-1fd9b9ad9e9b"
      },
      "outputs": [
        {
          "name": "stdout",
          "output_type": "stream",
          "text": [
            "Number of classes: 4\n",
            "Classes: ['five years to dementia', 'no dementia', 'ten years to dementia', 'zero years to dementia']\n"
          ]
        }
      ],
      "source": [
        "label_list = train_data.unique(output_col)\n",
        "label_list.sort()\n",
        "num_classes = len(label_list)\n",
        "print(f\"Number of classes: {num_classes}\")\n",
        "print(f\"Classes: {label_list}\")"
      ]
    },
    {
      "cell_type": "code",
      "execution_count": 5,
      "metadata": {
        "colab": {
          "base_uri": "https://localhost:8080/"
        },
        "id": "8jmvBDju85B3",
        "outputId": "da054419-0be3-440a-da28-8b0f92a12ab1"
      },
      "outputs": [
        {
          "name": "stdout",
          "output_type": "stream",
          "text": [
            "['file', 'label', 'path']\n"
          ]
        }
      ],
      "source": [
        "print(train_data.column_names)\n"
      ]
    },
    {
      "cell_type": "code",
      "execution_count": 6,
      "metadata": {
        "id": "ZLvTdVuIcpv4"
      },
      "outputs": [],
      "source": [
        "num_labels=num_classes,\n",
        "label2id={label: i for i, label in enumerate(label_list)},\n",
        "id2label={i: label for i, label in enumerate(label_list)},"
      ]
    },
    {
      "cell_type": "code",
      "execution_count": 7,
      "metadata": {
        "id": "G9QFUe1Kcpv4"
      },
      "outputs": [],
      "source": [
        "from dataclasses import dataclass\n",
        "from typing import Optional, Tuple\n",
        "import torch\n",
        "from transformers.file_utils import ModelOutput\n",
        "\n",
        "@dataclass\n",
        "class SpeechClassifierModelOutput(ModelOutput):\n",
        "    loss: Optional[torch.FloatTensor] = None\n",
        "    logits: torch.FloatTensor = None\n",
        "    hidden_states: Optional[Tuple[torch.FloatTensor]] = None\n",
        "    attentions: Optional[Tuple[torch.FloatTensor]] = None"
      ]
    },
    {
      "cell_type": "code",
      "execution_count": 8,
      "metadata": {
        "id": "CfKG2k8vcpv4"
      },
      "outputs": [],
      "source": [
        "import torch\n",
        "import torch.nn as nn\n",
        "from transformers.models.wav2vec2.modeling_wav2vec2 import (Wav2Vec2PreTrainedModel, Wav2Vec2Model)\n",
        "\n",
        "class Wav2Vec2ClassificationHead(nn.Module):\n",
        "    \"\"\"head for wav2vec classification task\"\"\"\n",
        "    def __init__(self, config):\n",
        "        super().__init__()\n",
        "        self.dense = nn.Linear(config.hidden_size, config.hidden_size)\n",
        "        self.dropout = nn.Dropout(config.final_dropout)\n",
        "        self.out_proj = nn.Linear(config.hidden_size, config.num_labels)\n",
        "\n",
        "    def forward(self, features, **kwargs):\n",
        "        x = features\n",
        "        x = self.dense(x)\n",
        "        x = self.dropout(x)\n",
        "        x = torch.tanh(x)\n",
        "        x = self.dropout(x)\n",
        "        x = self.out_proj(x)\n",
        "        return x\n",
        "\n",
        "class Wav2Vec2ForSpeechClassification(Wav2Vec2PreTrainedModel):\n",
        "    def __init__(self, config):\n",
        "        super().__init__(config)\n",
        "        self.num_labels = config.num_labels\n",
        "        self.pooling_mode = config.pooling_mode\n",
        "        self.config = config\n",
        "\n",
        "        self.wav2vec2 = Wav2Vec2Model(config)\n",
        "        self.classifier = Wav2Vec2ClassificationHead(config)\n",
        "\n",
        "        self.init_weights()\n",
        "\n",
        "    def freeze_feature_extractor(self):\n",
        "        self.wav2vec2.feature_extractor._freeze_parameters()\n",
        "\n",
        "    def merge_strategy(self, hidden_states, mode=\"mean\"):\n",
        "        if mode == \"mean\":\n",
        "            return torch.mean(hidden_states, dim=1)\n",
        "        elif mode == \"max\":\n",
        "            return torch.max(hidden_states, dim=1)[0]\n",
        "        elif mode == \"sum\":\n",
        "            return torch.sum(hidden_states, dim=1)\n",
        "        else:\n",
        "            raise ValueError(f\"Unknown merge strategy: {mode}\")\n",
        "\n",
        "    def forward(\n",
        "        self,\n",
        "        input_values,\n",
        "        attention_mask=None,\n",
        "        output_attentions=None,\n",
        "        output_hidden_states=None,\n",
        "        return_dict=None,\n",
        "        labels=None,\n",
        "    ):\n",
        "        return_dict = return_dict if return_dict is not None else self.config.use_return_dict\n",
        "        outputs = self.wav2vec2(input_values,\n",
        "                            attention_mask=attention_mask,\n",
        "                            output_attentions=output_attentions,\n",
        "                            output_hidden_states=output_hidden_states,\n",
        "                            return_dict=return_dict)\n",
        "\n",
        "        hidden_states = outputs[0]\n",
        "        hidden_states = self.merge_strategy(hidden_states, self.pooling_mode)\n",
        "        logits = self.classifier(hidden_states)\n",
        "\n",
        "        loss = None\n",
        "        if labels is not None:\n",
        "            loss_fct = nn.CrossEntropyLoss()\n",
        "            loss = loss_fct(logits.view(-1, self.num_labels), labels.view(-1))\n",
        "\n",
        "        if not return_dict:\n",
        "            output = (logits,) + outputs[2:]\n",
        "            return ((loss,) + output) if loss is not None else output\n",
        "\n",
        "        return SpeechClassifierModelOutput(loss=loss, logits=logits, hidden_states=outputs.hidden_states, attentions=outputs.attentions)"
      ]
    },
    {
      "cell_type": "code",
      "execution_count": 9,
      "metadata": {
        "colab": {
          "base_uri": "https://localhost:8080/"
        },
        "id": "BZJJR282cpv5",
        "outputId": "0bfdff9a-0009-4e77-f93a-bbb5642b5195"
      },
      "outputs": [
        {
          "name": "stdout",
          "output_type": "stream",
          "text": [
            "Device: cpu\n"
          ]
        }
      ],
      "source": [
        "device = torch.device(\"cuda\" if torch.cuda.is_available() else \"cpu\")\n",
        "print(f\"Device: {device}\")"
      ]
    },
    {
      "cell_type": "code",
      "execution_count": 10,
      "metadata": {
        "colab": {
          "base_uri": "https://localhost:8080/"
        },
        "id": "Bse3U5u_cpv6",
        "outputId": "85b5bbfe-c0f1-4a04-fe94-9672ab74fab5"
      },
      "outputs": [
        {
          "data": {
            "application/vnd.jupyter.widget-view+json": {
              "model_id": "197071fb017143a4b19512c3739f3abe",
              "version_major": 2,
              "version_minor": 0
            },
            "text/plain": [
              "config.json:   0%|          | 0.00/2.29k [00:00<?, ?B/s]"
            ]
          },
          "metadata": {},
          "output_type": "display_data"
        },
        {
          "name": "stderr",
          "output_type": "stream",
          "text": [
            "c:\\Users\\Ranadeep Mahendra\\anaconda3\\lib\\site-packages\\huggingface_hub\\file_download.py:142: UserWarning: `huggingface_hub` cache-system uses symlinks by default to efficiently store duplicated files but your machine does not support them in C:\\Users\\Ranadeep Mahendra\\.cache\\huggingface\\hub\\models--RanadeepMahendra--wav2vec2-large-xls-r-300m-dm32. Caching files will still work but in a degraded version that might require more space on your disk. This warning can be disabled by setting the `HF_HUB_DISABLE_SYMLINKS_WARNING` environment variable. For more details, see https://huggingface.co/docs/huggingface_hub/how-to-cache#limitations.\n",
            "To support symlinks on Windows, you either need to activate Developer Mode or to run Python as an administrator. In order to activate developer mode, see this article: https://docs.microsoft.com/en-us/windows/apps/get-started/enable-your-device-for-development\n",
            "  warnings.warn(message)\n"
          ]
        },
        {
          "data": {
            "application/vnd.jupyter.widget-view+json": {
              "model_id": "85c25ae1ea504c4a81cc86f7e38d4526",
              "version_major": 2,
              "version_minor": 0
            },
            "text/plain": [
              "preprocessor_config.json:   0%|          | 0.00/212 [00:00<?, ?B/s]"
            ]
          },
          "metadata": {},
          "output_type": "display_data"
        },
        {
          "data": {
            "application/vnd.jupyter.widget-view+json": {
              "model_id": "21fc497ea6f24d98820a14a8d11a4907",
              "version_major": 2,
              "version_minor": 0
            },
            "text/plain": [
              "model.safetensors:   0%|          | 0.00/1.27G [00:00<?, ?B/s]"
            ]
          },
          "metadata": {},
          "output_type": "display_data"
        }
      ],
      "source": [
        "model_name_or_path = \"RanadeepMahendra/wav2vec2-large-xls-r-300m-dm32\"\n",
        "config = AutoConfig.from_pretrained(model_name_or_path)\n",
        "feature_extractor = Wav2Vec2FeatureExtractor.from_pretrained(model_name_or_path)\n",
        "model = Wav2Vec2ForSpeechClassification.from_pretrained(model_name_or_path).to(device)"
      ]
    },
    {
      "cell_type": "code",
      "execution_count": 11,
      "metadata": {
        "id": "yaa6aSjgcpv6"
      },
      "outputs": [],
      "source": [
        "'''def speech_to_array(batch):\n",
        "    speech, sr = torchaudio.load(batch[\"path\"])\n",
        "    transform = torchaudio.transforms.Resample(sr, 16000)\n",
        "    speech = transform(speech)[0].numpy().squeeze()\n",
        "    batch[\"speech\"] = speech\n",
        "    #return random_subsample(speech, max_length=8)\n",
        "    return batch'''\n",
        "\n",
        "import os\n",
        "import torchaudio\n",
        "\n",
        "import torchaudio\n",
        "import os\n",
        "\n",
        "def speech_to_array(batch):\n",
        "    folder_path = batch[\"path\"]  # This now points to the folder\n",
        "    audio_data = []\n",
        "\n",
        "    # Process all WAV files inside the folder\n",
        "    for file_name in os.listdir(folder_path):\n",
        "        if file_name.endswith(\".wav\"):\n",
        "            file_path = os.path.join(folder_path, file_name)\n",
        "            try:\n",
        "                speech, sr = torchaudio.load(file_path)\n",
        "                transform = torchaudio.transforms.Resample(sr, 16000)\n",
        "                speech = transform(speech)[0].numpy().squeeze()\n",
        "                audio_data.append(speech)  # Store all audio data\n",
        "            except Exception as e:\n",
        "                print(f\"Error loading {file_path}: {e}\")\n",
        "\n",
        "    batch[\"speech\"] = audio_data if audio_data else None  # Store all audio files\n",
        "    return batch\n",
        "def predict(batch):\n",
        "    print(\"Batch size:\", len(batch[\"speech\"]))  # Debug batch size\n",
        "    print(\"Each speech sample length:\", [len(s) for s in batch[\"speech\"]])\n",
        "\n",
        "    # Ensure all sequences have the same length by padding\n",
        "    max_len = max(len(s) for s in batch[\"speech\"])\n",
        "    padded_speech = [np.pad(s, (0, max_len - len(s)), mode=\"constant\") for s in batch[\"speech\"]]\n",
        "\n",
        "    features = feature_extractor(\n",
        "        padded_speech,  \n",
        "        sampling_rate=feature_extractor.sampling_rate, \n",
        "        return_tensors=\"pt\", \n",
        "        padding=\"max_length\",  # Ensures uniform shape\n",
        "        truncation=True,\n",
        "        max_length=16000  # Adjust this value based on dataset\n",
        "    )\n",
        "\n",
        "    input_values = features.input_values.to(device)\n",
        "\n",
        "    with torch.no_grad():\n",
        "        logits = model(input_values).logits\n",
        "\n",
        "    pred_ids = torch.argmax(logits, dim=-1).detach().cpu().numpy()\n",
        "    return {\"predicted\": pred_ids}\n"
      ]
    },
    {
      "cell_type": "code",
      "execution_count": 12,
      "metadata": {
        "colab": {
          "base_uri": "https://localhost:8080/"
        },
        "id": "gp5D94d4AnHC",
        "outputId": "7b7f4973-7329-4697-9f65-7e9e6659dabb"
      },
      "outputs": [
        {
          "name": "stdout",
          "output_type": "stream",
          "text": [
            "Missing Files: 0\n"
          ]
        }
      ],
      "source": [
        "import os\n",
        "missing_files = [path for path in test_data[\"path\"] if not os.path.exists(path)]\n",
        "print(f\"Missing Files: {len(missing_files)}\")\n"
      ]
    },
    {
      "cell_type": "code",
      "execution_count": 13,
      "metadata": {
        "colab": {
          "base_uri": "https://localhost:8080/"
        },
        "id": "ufHcydHa_KXm",
        "outputId": "b3b3520e-7648-4d5e-8cdc-7c1fca128f57"
      },
      "outputs": [
        {
          "name": "stdout",
          "output_type": "stream",
          "text": [
            "['file', 'label', 'path']\n"
          ]
        }
      ],
      "source": [
        "print(test_data.column_names)\n"
      ]
    },
    {
      "cell_type": "code",
      "execution_count": 97,
      "metadata": {},
      "outputs": [
        {
          "name": "stdout",
          "output_type": "stream",
          "text": [
            "Collecting PySoundFile\n",
            "  Downloading PySoundFile-0.9.0.post1-py2.py3.cp26.cp27.cp32.cp33.cp34.cp35.cp36.pp27.pp32.pp33-none-win_amd64.whl.metadata (9.4 kB)\n",
            "Requirement already satisfied: cffi>=0.6 in c:\\users\\ranadeep mahendra\\anaconda3\\lib\\site-packages (from PySoundFile) (1.15.0)\n",
            "Requirement already satisfied: pycparser in c:\\users\\ranadeep mahendra\\anaconda3\\lib\\site-packages (from cffi>=0.6->PySoundFile) (2.21)\n",
            "Downloading PySoundFile-0.9.0.post1-py2.py3.cp26.cp27.cp32.cp33.cp34.cp35.cp36.pp27.pp32.pp33-none-win_amd64.whl (671 kB)\n",
            "   ---------------------------------------- 0.0/671.8 kB ? eta -:--:--\n",
            "   ---------------------------------------- 671.8/671.8 kB 6.5 MB/s eta 0:00:00\n",
            "Installing collected packages: PySoundFile\n",
            "Successfully installed PySoundFile-0.9.0.post1\n"
          ]
        },
        {
          "name": "stderr",
          "output_type": "stream",
          "text": [
            "\n",
            "[notice] A new release of pip is available: 25.0 -> 25.0.1\n",
            "[notice] To update, run: python.exe -m pip install --upgrade pip\n"
          ]
        }
      ],
      "source": [
        "!pip3 install PySoundFile"
      ]
    },
    {
      "cell_type": "code",
      "execution_count": null,
      "metadata": {},
      "outputs": [
        {
          "data": {
            "application/vnd.jupyter.widget-view+json": {
              "model_id": "4c2ad01bf97c4184ac2ece0cfc951e58",
              "version_major": 2,
              "version_minor": 0
            },
            "text/plain": [
              "Map:   0%|          | 0/64 [00:00<?, ? examples/s]"
            ]
          },
          "metadata": {},
          "output_type": "display_data"
        }
      ],
      "source": [
        "test_data = test_data.map(speech_to_array, None)"
      ]
    },
    {
      "cell_type": "code",
      "execution_count": 15,
      "metadata": {},
      "outputs": [],
      "source": [
        "import numpy as np\n",
        "\n",
        "def fix_speech_data(batch):\n",
        "    fixed_speech = []\n",
        "    \n",
        "    for speech in batch[\"speech\"]:\n",
        "        # Convert to NumPy array if it's a list\n",
        "        if isinstance(speech, list):\n",
        "            # Flatten only if elements inside are lists\n",
        "            if any(isinstance(i, list) for i in speech):\n",
        "                speech = np.concatenate([np.array(i) for i in speech], axis=0)  # Merge sublists\n",
        "            else:\n",
        "                speech = np.array(speech)  # Convert normally\n",
        "        \n",
        "        # Convert to NumPy array if it isn't already\n",
        "        elif not isinstance(speech, np.ndarray):\n",
        "            print(f\"Unexpected type found: {type(speech)}\")\n",
        "            continue  # Skip invalid samples\n",
        "        \n",
        "        # Ensure it's a 1D array\n",
        "        speech = speech.flatten()\n",
        "\n",
        "        if len(speech) > 0:  # Skip empty samples\n",
        "            fixed_speech.append(speech)\n",
        "\n",
        "    batch[\"speech\"] = fixed_speech\n",
        "    return batch\n"
      ]
    },
    {
      "cell_type": "code",
      "execution_count": 16,
      "metadata": {},
      "outputs": [
        {
          "data": {
            "application/vnd.jupyter.widget-view+json": {
              "model_id": "6259efb590814eb3b83b3e701cbb9cfb",
              "version_major": 2,
              "version_minor": 0
            },
            "text/plain": [
              "Map:   0%|          | 0/64 [00:00<?, ? examples/s]"
            ]
          },
          "metadata": {},
          "output_type": "display_data"
        }
      ],
      "source": [
        "test_data = test_data.map(fix_speech_data, batched=True, batch_size=8)"
      ]
    },
    {
      "cell_type": "code",
      "execution_count": 17,
      "metadata": {
        "colab": {
          "base_uri": "https://localhost:8080/",
          "height": 104,
          "referenced_widgets": [
            "3687dad326bd46cf8db7b3e7008dcb89",
            "a509673d269f48158da82bf30d506de2",
            "ca283a50d8e5400a9ef2461de223f3df",
            "0d0535ab7417471890f4188e35e176fd",
            "07ba86d9cbce42d882a3233d862536c3",
            "62ada42de84a47d0832c6ce581b55bda",
            "f338f09e13e74d3492baf69f1d5b05e2",
            "83b31e24027d4c33a99ad422c7b90ae9",
            "c8bf13d01fdd4fdfa066e65244507263",
            "20de7232cdd14fe0acaeec85b66ac74a",
            "f9b5fc5d0cb9453ab8b32670a9854d0b"
          ]
        },
        "id": "nuZFxy2xcpv7",
        "outputId": "3d4ff4bb-1516-4e94-edc7-e6fce11890ba"
      },
      "outputs": [
        {
          "name": "stderr",
          "output_type": "stream",
          "text": [
            "Parameter 'function'=<function predict at 0x0000021AF3992F70> of the transform datasets.arrow_dataset.Dataset._map_single couldn't be hashed properly, a random hash was used instead. Make sure your transforms and parameters are serializable with pickle or dill for the dataset fingerprinting and caching to work. If you reuse this transform, the caching mechanism will consider it to be different from the previous calls and recompute everything. This warning is only showed once. Subsequent hashing failures won't be showed.\n"
          ]
        },
        {
          "data": {
            "application/vnd.jupyter.widget-view+json": {
              "model_id": "5c2ac3be4312459297fdf94c1228be14",
              "version_major": 2,
              "version_minor": 0
            },
            "text/plain": [
              "Map:   0%|          | 0/64 [00:00<?, ? examples/s]"
            ]
          },
          "metadata": {},
          "output_type": "display_data"
        },
        {
          "name": "stdout",
          "output_type": "stream",
          "text": [
            "Batch size: 8\n",
            "Each speech sample length: [1136315, 2800000, 2672000, 1440000, 3024000, 2832000, 848363, 1504156]\n",
            "Batch size: 8\n",
            "Each speech sample length: [608092, 928279, 1120134, 2496068, 736000, 2880084, 560253, 928324]\n",
            "Batch size: 8\n",
            "Each speech sample length: [160000, 144327, 1488550, 2880000, 1376413, 560144, 752289, 768164]\n",
            "Batch size: 8\n",
            "Each speech sample length: [2184000, 672359, 1600283, 768000, 1488332, 1984000, 640000, 1264000]\n",
            "Batch size: 8\n",
            "Each speech sample length: [2464268, 1376108, 2880399, 1792000, 1504453, 864063, 496012, 1632015]\n",
            "Batch size: 8\n",
            "Each speech sample length: [256366, 704000, 2304438, 288000, 1296480, 544252, 1440009, 1440000]\n",
            "Batch size: 8\n",
            "Each speech sample length: [1440000, 2336000, 1264000, 1072000, 1440000, 1056000, 1696000, 2272000]\n",
            "Batch size: 8\n",
            "Each speech sample length: [2592000, 4320000, 1440000, 1216000, 3008000, 1440000, 2768000, 2816000]\n"
          ]
        }
      ],
      "source": [
        "result = test_data.map(predict, batched=True, batch_size=8, remove_columns=[\"speech\"])\n"
      ]
    },
    {
      "cell_type": "code",
      "execution_count": 18,
      "metadata": {
        "id": "EonKawzPcpv7",
        "outputId": "f097809b-8aca-4813-d41c-7529779be676"
      },
      "outputs": [
        {
          "data": {
            "text/plain": [
              "['five years to dementia',\n",
              " 'no dementia',\n",
              " 'ten years to dementia',\n",
              " 'zero years to dementia']"
            ]
          },
          "execution_count": 18,
          "metadata": {},
          "output_type": "execute_result"
        }
      ],
      "source": [
        "label_list"
      ]
    },
    {
      "cell_type": "code",
      "execution_count": 19,
      "metadata": {},
      "outputs": [
        {
          "name": "stdout",
          "output_type": "stream",
          "text": [
            "{'no dementia', 'zero years to dementia', 'ten years to dementia', 'five years to dementia'}\n"
          ]
        }
      ],
      "source": [
        "print(set(result[\"label\"]))  # Show unique labels in dataset\n"
      ]
    },
    {
      "cell_type": "code",
      "execution_count": 20,
      "metadata": {
        "id": "dguNg-cQcpv7",
        "outputId": "c167af1e-aadd-4d1d-c391-15b56c81d9e3"
      },
      "outputs": [
        {
          "name": "stdout",
          "output_type": "stream",
          "text": [
            "Label to ID mapping: {'five years to dementia': 0, 'no dementia': 1, 'ten years to dementia': 2, 'zero years to dementia': 3}\n",
            "ID to Label mapping: {0: 'five years to dementia', 1: 'no dementia', 2: 'ten years to dementia', 3: 'zero years to dementia'}\n",
            "y_true (Numerical IDs): [3, 2, 2, 2, 3, 2, 2, 3, 2, 3, 3, 3, 2, 0, 3, 2, 3, 3, 3, 2, 3, 3, 3, 3, 3, 3, 3, 3, 0, 0, 3, 2, 3, 2, 3, 3, 3, 3, 0, 0, 3, 2, 3, 3, 3, 0, 3, 2, 3, 1, 1, 1, 1, 1, 1, 1, 1, 1, 1, 1, 1, 1, 1, 1]\n",
            "y_pred (Numerical Predictions): [1, 1, 0, 1, 1, 0, 1, 1, 0, 1, 1, 1, 1, 1, 0, 0, 0, 1, 1, 0, 1, 1, 0, 1, 1, 0, 1, 1, 1, 1, 1, 0, 1, 1, 0, 1, 0, 1, 1, 0, 1, 0, 1, 1, 1, 1, 1, 1, 1, 1, 1, 1, 1, 1, 1, 0, 1, 1, 1, 1, 1, 0, 0, 1]\n",
            "five years to dementia -> five years to dementia\n",
            "no dementia -> no dementia\n",
            "no dementia -> no dementia\n",
            "no dementia -> no dementia\n",
            "no dementia -> no dementia\n",
            "no dementia -> no dementia\n",
            "no dementia -> no dementia\n",
            "no dementia -> no dementia\n",
            "no dementia -> no dementia\n",
            "no dementia -> no dementia\n",
            "no dementia -> no dementia\n",
            "no dementia -> no dementia\n",
            "no dementia -> no dementia\n",
            "Accuracy: 0.203125\n"
          ]
        }
      ],
      "source": [
        "# Ensure correct label mappings\n",
        "label_list = ['five years to dementia', 'no dementia', 'ten years to dementia', 'zero years to dementia']\n",
        "label2id = {label: i for i, label in enumerate(label_list)}\n",
        "id2label = {i: label for i, label in enumerate(label_list)}\n",
        "\n",
        "# Print label mappings for verification\n",
        "print(\"Label to ID mapping:\", label2id)\n",
        "print(\"ID to Label mapping:\", id2label)\n",
        "\n",
        "# Ensure all labels are mapped correctly\n",
        "y_true_labels = list(result[\"label\"])  # Convert tuple-like object to a list\n",
        "y_true = [label2id[name] for name in y_true_labels]  # Convert label names to numerical IDs\n",
        "y_pred = list(result[\"predicted\"])  # Ensure predictions are also in list format\n",
        "\n",
        "# Convert back to label names for verification\n",
        "y_pred_labels = [id2label[id] for id in y_pred]  # Convert predictions to label names\n",
        "\n",
        "# Print mapped IDs and predictions\n",
        "print(\"y_true (Numerical IDs):\", y_true)  \n",
        "print(\"y_pred (Numerical Predictions):\", y_pred)  \n",
        "\n",
        "# Display correct classifications\n",
        "for i in range(len(y_true)):\n",
        "    if y_pred_labels[i] == y_true_labels[i]:\n",
        "        print(f\"{y_true_labels[i]} -> {y_pred_labels[i]}\")\n",
        "\n",
        "# Compute accuracy\n",
        "from sklearn.metrics import accuracy_score\n",
        "print(\"Accuracy:\", accuracy_score(y_true, y_pred))\n"
      ]
    },
    {
      "cell_type": "code",
      "execution_count": 21,
      "metadata": {
        "id": "fvyfFuiLcpv8",
        "outputId": "94720896-fd18-4df8-e109-c314b946d902"
      },
      "outputs": [
        {
          "data": {
            "text/plain": [
              "array([[ 1,  5,  0,  0],\n",
              "       [ 3, 12,  0,  0],\n",
              "       [ 7,  6,  0,  0],\n",
              "       [ 6, 24,  0,  0]], dtype=int64)"
            ]
          },
          "execution_count": 21,
          "metadata": {},
          "output_type": "execute_result"
        }
      ],
      "source": [
        "from sklearn.metrics import confusion_matrix\n",
        "cf_matrix = confusion_matrix(y_true_labels, y_pred_labels, labels=label_list)\n",
        "cf_matrix"
      ]
    },
    {
      "cell_type": "code",
      "execution_count": 22,
      "metadata": {
        "id": "g-8wt1hbcpv8",
        "outputId": "85d54e23-6a53-465a-8a77-17b75ab60135"
      },
      "outputs": [
        {
          "data": {
            "image/png": "[encoded data removed]",
            "text/plain": [
              "<Figure size 640x480 with 2 Axes>"
            ]
          },
          "metadata": {},
          "output_type": "display_data"
        }
      ],
      "source": [
        "import seaborn as sns\n",
        "import matplotlib.pyplot as plt\n",
        "import matplotlib_inline as mpl\n",
        "\n",
        "cm = pd.DataFrame(cf_matrix, index = [i for i in label_list], columns = [i for i in label_list])\n",
        "ax = sns.heatmap(cm, annot=True)\n",
        "\n",
        "ax.set_title('Seaborn Confusion Matrix with labels\\n\\n');\n",
        "ax.set_xlabel('\\nPredicted Values')\n",
        "ax.set_ylabel('Actual Values ');\n",
        "\n",
        "## Display the visualization of the Confusion Matrix.\n",
        "plt.show()"
      ]
    },
    {
      "cell_type": "code",
      "execution_count": 23,
      "metadata": {
        "id": "fMvEO-Pfcpv8",
        "outputId": "27aa76cd-cf9d-4cbb-ffe9-228a82db499c"
      },
      "outputs": [
        {
          "name": "stdout",
          "output_type": "stream",
          "text": [
            "                        precision    recall  f1-score   support\n",
            "\n",
            "five years to dementia       0.06      0.17      0.09         6\n",
            "           no dementia       0.26      0.80      0.39        15\n",
            " ten years to dementia       0.00      0.00      0.00        13\n",
            "zero years to dementia       0.00      0.00      0.00        30\n",
            "\n",
            "              accuracy                           0.20        64\n",
            "             macro avg       0.08      0.24      0.12        64\n",
            "          weighted avg       0.07      0.20      0.10        64\n",
            "\n"
          ]
        },
        {
          "name": "stderr",
          "output_type": "stream",
          "text": [
            "c:\\Users\\Ranadeep Mahendra\\anaconda3\\lib\\site-packages\\sklearn\\metrics\\_classification.py:1531: UndefinedMetricWarning: Precision is ill-defined and being set to 0.0 in labels with no predicted samples. Use `zero_division` parameter to control this behavior.\n",
            "  _warn_prf(average, modifier, f\"{metric.capitalize()} is\", len(result))\n",
            "c:\\Users\\Ranadeep Mahendra\\anaconda3\\lib\\site-packages\\sklearn\\metrics\\_classification.py:1531: UndefinedMetricWarning: Precision is ill-defined and being set to 0.0 in labels with no predicted samples. Use `zero_division` parameter to control this behavior.\n",
            "  _warn_prf(average, modifier, f\"{metric.capitalize()} is\", len(result))\n",
            "c:\\Users\\Ranadeep Mahendra\\anaconda3\\lib\\site-packages\\sklearn\\metrics\\_classification.py:1531: UndefinedMetricWarning: Precision is ill-defined and being set to 0.0 in labels with no predicted samples. Use `zero_division` parameter to control this behavior.\n",
            "  _warn_prf(average, modifier, f\"{metric.capitalize()} is\", len(result))\n"
          ]
        }
      ],
      "source": [
        "print(classification_report(y_true, y_pred, target_names=label_list))"
      ]
    }
  ],
  "metadata": {
    "colab": {
      "provenance": []
    },
    "kernelspec": {
      "display_name": "Python 3",
      "language": "python",
      "name": "python3"
    },
    "language_info": {
      "codemirror_mode": {
        "name": "ipython",
        "version": 3
      },
      "file_extension": ".py",
      "mimetype": "text/x-python",
      "name": "python",
      "nbconvert_exporter": "python",
      "pygments_lexer": "ipython3",
      "version": "3.9.7"
    },
    "orig_nbformat": 4,
    "widgets": {
      "application/vnd.jupyter.widget-state+json": {
        "07ba86d9cbce42d882a3233d862536c3": {
          "model_module": "@jupyter-widgets/base",
          "model_module_version": "1.2.0",
          "model_name": "LayoutModel",
          "state": {
            "_model_module": "@jupyter-widgets/base",
            "_model_module_version": "1.2.0",
            "_model_name": "LayoutModel",
            "_view_count": null,
            "_view_module": "@jupyter-widgets/base",
            "_view_module_version": "1.2.0",
            "_view_name": "LayoutView",
            "align_content": null,
            "align_items": null,
            "align_self": null,
            "border": null,
            "bottom": null,
            "display": null,
            "flex": null,
            "flex_flow": null,
            "grid_area": null,
            "grid_auto_columns": null,
            "grid_auto_flow": null,
            "grid_auto_rows": null,
            "grid_column": null,
            "grid_gap": null,
            "grid_row": null,
            "grid_template_areas": null,
            "grid_template_columns": null,
            "grid_template_rows": null,
            "height": null,
            "justify_content": null,
            "justify_items": null,
            "left": null,
            "margin": null,
            "max_height": null,
            "max_width": null,
            "min_height": null,
            "min_width": null,
            "object_fit": null,
            "object_position": null,
            "order": null,
            "overflow": null,
            "overflow_x": null,
            "overflow_y": null,
            "padding": null,
            "right": null,
            "top": null,
            "visibility": null,
            "width": null
          }
        },
        "0d0535ab7417471890f4188e35e176fd": {
          "model_module": "@jupyter-widgets/controls",
          "model_module_version": "1.5.0",
          "model_name": "HTMLModel",
          "state": {
            "_dom_classes": [],
            "_model_module": "@jupyter-widgets/controls",
            "_model_module_version": "1.5.0",
            "_model_name": "HTMLModel",
            "_view_count": null,
            "_view_module": "@jupyter-widgets/controls",
            "_view_module_version": "1.5.0",
            "_view_name": "HTMLView",
            "description": "",
            "description_tooltip": null,
            "layout": "IPY_MODEL_20de7232cdd14fe0acaeec85b66ac74a",
            "placeholder": "​",
            "style": "IPY_MODEL_f9b5fc5d0cb9453ab8b32670a9854d0b",
            "value": " 0/48 [00:00&lt;?, ? examples/s]"
          }
        },
        "1746e89193774fcdb70ea11be3ec597f": {
          "model_module": "@jupyter-widgets/controls",
          "model_module_version": "1.5.0",
          "model_name": "FloatProgressModel",
          "state": {
            "_dom_classes": [],
            "_model_module": "@jupyter-widgets/controls",
            "_model_module_version": "1.5.0",
            "_model_name": "FloatProgressModel",
            "_view_count": null,
            "_view_module": "@jupyter-widgets/controls",
            "_view_module_version": "1.5.0",
            "_view_name": "ProgressView",
            "bar_style": "success",
            "description": "",
            "description_tooltip": null,
            "layout": "IPY_MODEL_6bda4a3756104fa183ada90a2b7e2bfc",
            "max": 1,
            "min": 0,
            "orientation": "horizontal",
            "style": "IPY_MODEL_79af80d628f44b85b591d425d74a12ff",
            "value": 1
          }
        },
        "1cddce1229834d76bc0af1e9dc0c404d": {
          "model_module": "@jupyter-widgets/controls",
          "model_module_version": "1.5.0",
          "model_name": "DescriptionStyleModel",
          "state": {
            "_model_module": "@jupyter-widgets/controls",
            "_model_module_version": "1.5.0",
            "_model_name": "DescriptionStyleModel",
            "_view_count": null,
            "_view_module": "@jupyter-widgets/base",
            "_view_module_version": "1.2.0",
            "_view_name": "StyleView",
            "description_width": ""
          }
        },
        "20de7232cdd14fe0acaeec85b66ac74a": {
          "model_module": "@jupyter-widgets/base",
          "model_module_version": "1.2.0",
          "model_name": "LayoutModel",
          "state": {
            "_model_module": "@jupyter-widgets/base",
            "_model_module_version": "1.2.0",
            "_model_name": "LayoutModel",
            "_view_count": null,
            "_view_module": "@jupyter-widgets/base",
            "_view_module_version": "1.2.0",
            "_view_name": "LayoutView",
            "align_content": null,
            "align_items": null,
            "align_self": null,
            "border": null,
            "bottom": null,
            "display": null,
            "flex": null,
            "flex_flow": null,
            "grid_area": null,
            "grid_auto_columns": null,
            "grid_auto_flow": null,
            "grid_auto_rows": null,
            "grid_column": null,
            "grid_gap": null,
            "grid_row": null,
            "grid_template_areas": null,
            "grid_template_columns": null,
            "grid_template_rows": null,
            "height": null,
            "justify_content": null,
            "justify_items": null,
            "left": null,
            "margin": null,
            "max_height": null,
            "max_width": null,
            "min_height": null,
            "min_width": null,
            "object_fit": null,
            "object_position": null,
            "order": null,
            "overflow": null,
            "overflow_x": null,
            "overflow_y": null,
            "padding": null,
            "right": null,
            "top": null,
            "visibility": null,
            "width": null
          }
        },
        "2478f3eafdd245b4b9be8106b17f5d26": {
          "model_module": "@jupyter-widgets/base",
          "model_module_version": "1.2.0",
          "model_name": "LayoutModel",
          "state": {
            "_model_module": "@jupyter-widgets/base",
            "_model_module_version": "1.2.0",
            "_model_name": "LayoutModel",
            "_view_count": null,
            "_view_module": "@jupyter-widgets/base",
            "_view_module_version": "1.2.0",
            "_view_name": "LayoutView",
            "align_content": null,
            "align_items": null,
            "align_self": null,
            "border": null,
            "bottom": null,
            "display": null,
            "flex": null,
            "flex_flow": null,
            "grid_area": null,
            "grid_auto_columns": null,
            "grid_auto_flow": null,
            "grid_auto_rows": null,
            "grid_column": null,
            "grid_gap": null,
            "grid_row": null,
            "grid_template_areas": null,
            "grid_template_columns": null,
            "grid_template_rows": null,
            "height": null,
            "justify_content": null,
            "justify_items": null,
            "left": null,
            "margin": null,
            "max_height": null,
            "max_width": null,
            "min_height": null,
            "min_width": null,
            "object_fit": null,
            "object_position": null,
            "order": null,
            "overflow": null,
            "overflow_x": null,
            "overflow_y": null,
            "padding": null,
            "right": null,
            "top": null,
            "visibility": null,
            "width": null
          }
        },
        "2f55b2742822415aadda5386ee415ea2": {
          "model_module": "@jupyter-widgets/controls",
          "model_module_version": "1.5.0",
          "model_name": "DescriptionStyleModel",
          "state": {
            "_model_module": "@jupyter-widgets/controls",
            "_model_module_version": "1.5.0",
            "_model_name": "DescriptionStyleModel",
            "_view_count": null,
            "_view_module": "@jupyter-widgets/base",
            "_view_module_version": "1.2.0",
            "_view_name": "StyleView",
            "description_width": ""
          }
        },
        "3273639bb6494da4a55f6a3128204f1b": {
          "model_module": "@jupyter-widgets/base",
          "model_module_version": "1.2.0",
          "model_name": "LayoutModel",
          "state": {
            "_model_module": "@jupyter-widgets/base",
            "_model_module_version": "1.2.0",
            "_model_name": "LayoutModel",
            "_view_count": null,
            "_view_module": "@jupyter-widgets/base",
            "_view_module_version": "1.2.0",
            "_view_name": "LayoutView",
            "align_content": null,
            "align_items": null,
            "align_self": null,
            "border": null,
            "bottom": null,
            "display": null,
            "flex": null,
            "flex_flow": null,
            "grid_area": null,
            "grid_auto_columns": null,
            "grid_auto_flow": null,
            "grid_auto_rows": null,
            "grid_column": null,
            "grid_gap": null,
            "grid_row": null,
            "grid_template_areas": null,
            "grid_template_columns": null,
            "grid_template_rows": null,
            "height": null,
            "justify_content": null,
            "justify_items": null,
            "left": null,
            "margin": null,
            "max_height": null,
            "max_width": null,
            "min_height": null,
            "min_width": null,
            "object_fit": null,
            "object_position": null,
            "order": null,
            "overflow": null,
            "overflow_x": null,
            "overflow_y": null,
            "padding": null,
            "right": null,
            "top": null,
            "visibility": null,
            "width": null
          }
        },
        "3687dad326bd46cf8db7b3e7008dcb89": {
          "model_module": "@jupyter-widgets/controls",
          "model_module_version": "1.5.0",
          "model_name": "HBoxModel",
          "state": {
            "_dom_classes": [],
            "_model_module": "@jupyter-widgets/controls",
            "_model_module_version": "1.5.0",
            "_model_name": "HBoxModel",
            "_view_count": null,
            "_view_module": "@jupyter-widgets/controls",
            "_view_module_version": "1.5.0",
            "_view_name": "HBoxView",
            "box_style": "",
            "children": [
              "IPY_MODEL_a509673d269f48158da82bf30d506de2",
              "IPY_MODEL_ca283a50d8e5400a9ef2461de223f3df",
              "IPY_MODEL_0d0535ab7417471890f4188e35e176fd"
            ],
            "layout": "IPY_MODEL_07ba86d9cbce42d882a3233d862536c3"
          }
        },
        "509a08d1e6ac4f8c85a5aaefddab4957": {
          "model_module": "@jupyter-widgets/base",
          "model_module_version": "1.2.0",
          "model_name": "LayoutModel",
          "state": {
            "_model_module": "@jupyter-widgets/base",
            "_model_module_version": "1.2.0",
            "_model_name": "LayoutModel",
            "_view_count": null,
            "_view_module": "@jupyter-widgets/base",
            "_view_module_version": "1.2.0",
            "_view_name": "LayoutView",
            "align_content": null,
            "align_items": null,
            "align_self": null,
            "border": null,
            "bottom": null,
            "display": null,
            "flex": null,
            "flex_flow": null,
            "grid_area": null,
            "grid_auto_columns": null,
            "grid_auto_flow": null,
            "grid_auto_rows": null,
            "grid_column": null,
            "grid_gap": null,
            "grid_row": null,
            "grid_template_areas": null,
            "grid_template_columns": null,
            "grid_template_rows": null,
            "height": null,
            "justify_content": null,
            "justify_items": null,
            "left": null,
            "margin": null,
            "max_height": null,
            "max_width": null,
            "min_height": null,
            "min_width": null,
            "object_fit": null,
            "object_position": null,
            "order": null,
            "overflow": null,
            "overflow_x": null,
            "overflow_y": null,
            "padding": null,
            "right": null,
            "top": null,
            "visibility": null,
            "width": null
          }
        },
        "547cc08b86bb4491bd712d1ac86c2886": {
          "model_module": "@jupyter-widgets/base",
          "model_module_version": "1.2.0",
          "model_name": "LayoutModel",
          "state": {
            "_model_module": "@jupyter-widgets/base",
            "_model_module_version": "1.2.0",
            "_model_name": "LayoutModel",
            "_view_count": null,
            "_view_module": "@jupyter-widgets/base",
            "_view_module_version": "1.2.0",
            "_view_name": "LayoutView",
            "align_content": null,
            "align_items": null,
            "align_self": null,
            "border": null,
            "bottom": null,
            "display": null,
            "flex": null,
            "flex_flow": null,
            "grid_area": null,
            "grid_auto_columns": null,
            "grid_auto_flow": null,
            "grid_auto_rows": null,
            "grid_column": null,
            "grid_gap": null,
            "grid_row": null,
            "grid_template_areas": null,
            "grid_template_columns": null,
            "grid_template_rows": null,
            "height": null,
            "justify_content": null,
            "justify_items": null,
            "left": null,
            "margin": null,
            "max_height": null,
            "max_width": null,
            "min_height": null,
            "min_width": null,
            "object_fit": null,
            "object_position": null,
            "order": null,
            "overflow": null,
            "overflow_x": null,
            "overflow_y": null,
            "padding": null,
            "right": null,
            "top": null,
            "visibility": null,
            "width": "20px"
          }
        },
        "5a7ba00d0c8c40cea513151c91c1226b": {
          "model_module": "@jupyter-widgets/controls",
          "model_module_version": "1.5.0",
          "model_name": "HTMLModel",
          "state": {
            "_dom_classes": [],
            "_model_module": "@jupyter-widgets/controls",
            "_model_module_version": "1.5.0",
            "_model_name": "HTMLModel",
            "_view_count": null,
            "_view_module": "@jupyter-widgets/controls",
            "_view_module_version": "1.5.0",
            "_view_name": "HTMLView",
            "description": "",
            "description_tooltip": null,
            "layout": "IPY_MODEL_a7622431215c49a5b9925d66c3f71e88",
            "placeholder": "​",
            "style": "IPY_MODEL_1cddce1229834d76bc0af1e9dc0c404d",
            "value": "Generating train split: "
          }
        },
        "5d1c7a9e4a8f4d8d90a39370deef0e16": {
          "model_module": "@jupyter-widgets/controls",
          "model_module_version": "1.5.0",
          "model_name": "HBoxModel",
          "state": {
            "_dom_classes": [],
            "_model_module": "@jupyter-widgets/controls",
            "_model_module_version": "1.5.0",
            "_model_name": "HBoxModel",
            "_view_count": null,
            "_view_module": "@jupyter-widgets/controls",
            "_view_module_version": "1.5.0",
            "_view_name": "HBoxView",
            "box_style": "",
            "children": [
              "IPY_MODEL_f4573961ce8c44e9982c751dfdd44ab7",
              "IPY_MODEL_1746e89193774fcdb70ea11be3ec597f",
              "IPY_MODEL_95eea5bbd5034a7184d63aad0c935ded"
            ],
            "layout": "IPY_MODEL_509a08d1e6ac4f8c85a5aaefddab4957"
          }
        },
        "62ada42de84a47d0832c6ce581b55bda": {
          "model_module": "@jupyter-widgets/base",
          "model_module_version": "1.2.0",
          "model_name": "LayoutModel",
          "state": {
            "_model_module": "@jupyter-widgets/base",
            "_model_module_version": "1.2.0",
            "_model_name": "LayoutModel",
            "_view_count": null,
            "_view_module": "@jupyter-widgets/base",
            "_view_module_version": "1.2.0",
            "_view_name": "LayoutView",
            "align_content": null,
            "align_items": null,
            "align_self": null,
            "border": null,
            "bottom": null,
            "display": null,
            "flex": null,
            "flex_flow": null,
            "grid_area": null,
            "grid_auto_columns": null,
            "grid_auto_flow": null,
            "grid_auto_rows": null,
            "grid_column": null,
            "grid_gap": null,
            "grid_row": null,
            "grid_template_areas": null,
            "grid_template_columns": null,
            "grid_template_rows": null,
            "height": null,
            "justify_content": null,
            "justify_items": null,
            "left": null,
            "margin": null,
            "max_height": null,
            "max_width": null,
            "min_height": null,
            "min_width": null,
            "object_fit": null,
            "object_position": null,
            "order": null,
            "overflow": null,
            "overflow_x": null,
            "overflow_y": null,
            "padding": null,
            "right": null,
            "top": null,
            "visibility": null,
            "width": null
          }
        },
        "64ddc7c0eab541ec80807abe7e6e2297": {
          "model_module": "@jupyter-widgets/controls",
          "model_module_version": "1.5.0",
          "model_name": "DescriptionStyleModel",
          "state": {
            "_model_module": "@jupyter-widgets/controls",
            "_model_module_version": "1.5.0",
            "_model_name": "DescriptionStyleModel",
            "_view_count": null,
            "_view_module": "@jupyter-widgets/base",
            "_view_module_version": "1.2.0",
            "_view_name": "StyleView",
            "description_width": ""
          }
        },
        "6bda4a3756104fa183ada90a2b7e2bfc": {
          "model_module": "@jupyter-widgets/base",
          "model_module_version": "1.2.0",
          "model_name": "LayoutModel",
          "state": {
            "_model_module": "@jupyter-widgets/base",
            "_model_module_version": "1.2.0",
            "_model_name": "LayoutModel",
            "_view_count": null,
            "_view_module": "@jupyter-widgets/base",
            "_view_module_version": "1.2.0",
            "_view_name": "LayoutView",
            "align_content": null,
            "align_items": null,
            "align_self": null,
            "border": null,
            "bottom": null,
            "display": null,
            "flex": null,
            "flex_flow": null,
            "grid_area": null,
            "grid_auto_columns": null,
            "grid_auto_flow": null,
            "grid_auto_rows": null,
            "grid_column": null,
            "grid_gap": null,
            "grid_row": null,
            "grid_template_areas": null,
            "grid_template_columns": null,
            "grid_template_rows": null,
            "height": null,
            "justify_content": null,
            "justify_items": null,
            "left": null,
            "margin": null,
            "max_height": null,
            "max_width": null,
            "min_height": null,
            "min_width": null,
            "object_fit": null,
            "object_position": null,
            "order": null,
            "overflow": null,
            "overflow_x": null,
            "overflow_y": null,
            "padding": null,
            "right": null,
            "top": null,
            "visibility": null,
            "width": "20px"
          }
        },
        "6da23fa42417422fb52ff4166db523cc": {
          "model_module": "@jupyter-widgets/controls",
          "model_module_version": "1.5.0",
          "model_name": "HTMLModel",
          "state": {
            "_dom_classes": [],
            "_model_module": "@jupyter-widgets/controls",
            "_model_module_version": "1.5.0",
            "_model_name": "HTMLModel",
            "_view_count": null,
            "_view_module": "@jupyter-widgets/controls",
            "_view_module_version": "1.5.0",
            "_view_name": "HTMLView",
            "description": "",
            "description_tooltip": null,
            "layout": "IPY_MODEL_2478f3eafdd245b4b9be8106b17f5d26",
            "placeholder": "​",
            "style": "IPY_MODEL_64ddc7c0eab541ec80807abe7e6e2297",
            "value": " 63/0 [00:00&lt;00:00, 1305.55 examples/s]"
          }
        },
        "6e43bbf0328445d9928104807ca6c554": {
          "model_module": "@jupyter-widgets/base",
          "model_module_version": "1.2.0",
          "model_name": "LayoutModel",
          "state": {
            "_model_module": "@jupyter-widgets/base",
            "_model_module_version": "1.2.0",
            "_model_name": "LayoutModel",
            "_view_count": null,
            "_view_module": "@jupyter-widgets/base",
            "_view_module_version": "1.2.0",
            "_view_name": "LayoutView",
            "align_content": null,
            "align_items": null,
            "align_self": null,
            "border": null,
            "bottom": null,
            "display": null,
            "flex": null,
            "flex_flow": null,
            "grid_area": null,
            "grid_auto_columns": null,
            "grid_auto_flow": null,
            "grid_auto_rows": null,
            "grid_column": null,
            "grid_gap": null,
            "grid_row": null,
            "grid_template_areas": null,
            "grid_template_columns": null,
            "grid_template_rows": null,
            "height": null,
            "justify_content": null,
            "justify_items": null,
            "left": null,
            "margin": null,
            "max_height": null,
            "max_width": null,
            "min_height": null,
            "min_width": null,
            "object_fit": null,
            "object_position": null,
            "order": null,
            "overflow": null,
            "overflow_x": null,
            "overflow_y": null,
            "padding": null,
            "right": null,
            "top": null,
            "visibility": null,
            "width": null
          }
        },
        "79af80d628f44b85b591d425d74a12ff": {
          "model_module": "@jupyter-widgets/controls",
          "model_module_version": "1.5.0",
          "model_name": "ProgressStyleModel",
          "state": {
            "_model_module": "@jupyter-widgets/controls",
            "_model_module_version": "1.5.0",
            "_model_name": "ProgressStyleModel",
            "_view_count": null,
            "_view_module": "@jupyter-widgets/base",
            "_view_module_version": "1.2.0",
            "_view_name": "StyleView",
            "bar_color": null,
            "description_width": ""
          }
        },
        "83b31e24027d4c33a99ad422c7b90ae9": {
          "model_module": "@jupyter-widgets/base",
          "model_module_version": "1.2.0",
          "model_name": "LayoutModel",
          "state": {
            "_model_module": "@jupyter-widgets/base",
            "_model_module_version": "1.2.0",
            "_model_name": "LayoutModel",
            "_view_count": null,
            "_view_module": "@jupyter-widgets/base",
            "_view_module_version": "1.2.0",
            "_view_name": "LayoutView",
            "align_content": null,
            "align_items": null,
            "align_self": null,
            "border": null,
            "bottom": null,
            "display": null,
            "flex": null,
            "flex_flow": null,
            "grid_area": null,
            "grid_auto_columns": null,
            "grid_auto_flow": null,
            "grid_auto_rows": null,
            "grid_column": null,
            "grid_gap": null,
            "grid_row": null,
            "grid_template_areas": null,
            "grid_template_columns": null,
            "grid_template_rows": null,
            "height": null,
            "justify_content": null,
            "justify_items": null,
            "left": null,
            "margin": null,
            "max_height": null,
            "max_width": null,
            "min_height": null,
            "min_width": null,
            "object_fit": null,
            "object_position": null,
            "order": null,
            "overflow": null,
            "overflow_x": null,
            "overflow_y": null,
            "padding": null,
            "right": null,
            "top": null,
            "visibility": null,
            "width": null
          }
        },
        "83b4e71f907141bcb72f6ec7f6e324e5": {
          "model_module": "@jupyter-widgets/controls",
          "model_module_version": "1.5.0",
          "model_name": "FloatProgressModel",
          "state": {
            "_dom_classes": [],
            "_model_module": "@jupyter-widgets/controls",
            "_model_module_version": "1.5.0",
            "_model_name": "FloatProgressModel",
            "_view_count": null,
            "_view_module": "@jupyter-widgets/controls",
            "_view_module_version": "1.5.0",
            "_view_name": "ProgressView",
            "bar_style": "success",
            "description": "",
            "description_tooltip": null,
            "layout": "IPY_MODEL_547cc08b86bb4491bd712d1ac86c2886",
            "max": 1,
            "min": 0,
            "orientation": "horizontal",
            "style": "IPY_MODEL_efdf086202ba47e5af85e451b92cc813",
            "value": 1
          }
        },
        "95eea5bbd5034a7184d63aad0c935ded": {
          "model_module": "@jupyter-widgets/controls",
          "model_module_version": "1.5.0",
          "model_name": "HTMLModel",
          "state": {
            "_dom_classes": [],
            "_model_module": "@jupyter-widgets/controls",
            "_model_module_version": "1.5.0",
            "_model_name": "HTMLModel",
            "_view_count": null,
            "_view_module": "@jupyter-widgets/controls",
            "_view_module_version": "1.5.0",
            "_view_name": "HTMLView",
            "description": "",
            "description_tooltip": null,
            "layout": "IPY_MODEL_6e43bbf0328445d9928104807ca6c554",
            "placeholder": "​",
            "style": "IPY_MODEL_2f55b2742822415aadda5386ee415ea2",
            "value": " 64/0 [00:00&lt;00:00, 1677.41 examples/s]"
          }
        },
        "96e1314152a94302b64da8d29f2ab903": {
          "model_module": "@jupyter-widgets/base",
          "model_module_version": "1.2.0",
          "model_name": "LayoutModel",
          "state": {
            "_model_module": "@jupyter-widgets/base",
            "_model_module_version": "1.2.0",
            "_model_name": "LayoutModel",
            "_view_count": null,
            "_view_module": "@jupyter-widgets/base",
            "_view_module_version": "1.2.0",
            "_view_name": "LayoutView",
            "align_content": null,
            "align_items": null,
            "align_self": null,
            "border": null,
            "bottom": null,
            "display": null,
            "flex": null,
            "flex_flow": null,
            "grid_area": null,
            "grid_auto_columns": null,
            "grid_auto_flow": null,
            "grid_auto_rows": null,
            "grid_column": null,
            "grid_gap": null,
            "grid_row": null,
            "grid_template_areas": null,
            "grid_template_columns": null,
            "grid_template_rows": null,
            "height": null,
            "justify_content": null,
            "justify_items": null,
            "left": null,
            "margin": null,
            "max_height": null,
            "max_width": null,
            "min_height": null,
            "min_width": null,
            "object_fit": null,
            "object_position": null,
            "order": null,
            "overflow": null,
            "overflow_x": null,
            "overflow_y": null,
            "padding": null,
            "right": null,
            "top": null,
            "visibility": null,
            "width": null
          }
        },
        "a509673d269f48158da82bf30d506de2": {
          "model_module": "@jupyter-widgets/controls",
          "model_module_version": "1.5.0",
          "model_name": "HTMLModel",
          "state": {
            "_dom_classes": [],
            "_model_module": "@jupyter-widgets/controls",
            "_model_module_version": "1.5.0",
            "_model_name": "HTMLModel",
            "_view_count": null,
            "_view_module": "@jupyter-widgets/controls",
            "_view_module_version": "1.5.0",
            "_view_name": "HTMLView",
            "description": "",
            "description_tooltip": null,
            "layout": "IPY_MODEL_62ada42de84a47d0832c6ce581b55bda",
            "placeholder": "​",
            "style": "IPY_MODEL_f338f09e13e74d3492baf69f1d5b05e2",
            "value": "Map:   0%"
          }
        },
        "a7622431215c49a5b9925d66c3f71e88": {
          "model_module": "@jupyter-widgets/base",
          "model_module_version": "1.2.0",
          "model_name": "LayoutModel",
          "state": {
            "_model_module": "@jupyter-widgets/base",
            "_model_module_version": "1.2.0",
            "_model_name": "LayoutModel",
            "_view_count": null,
            "_view_module": "@jupyter-widgets/base",
            "_view_module_version": "1.2.0",
            "_view_name": "LayoutView",
            "align_content": null,
            "align_items": null,
            "align_self": null,
            "border": null,
            "bottom": null,
            "display": null,
            "flex": null,
            "flex_flow": null,
            "grid_area": null,
            "grid_auto_columns": null,
            "grid_auto_flow": null,
            "grid_auto_rows": null,
            "grid_column": null,
            "grid_gap": null,
            "grid_row": null,
            "grid_template_areas": null,
            "grid_template_columns": null,
            "grid_template_rows": null,
            "height": null,
            "justify_content": null,
            "justify_items": null,
            "left": null,
            "margin": null,
            "max_height": null,
            "max_width": null,
            "min_height": null,
            "min_width": null,
            "object_fit": null,
            "object_position": null,
            "order": null,
            "overflow": null,
            "overflow_x": null,
            "overflow_y": null,
            "padding": null,
            "right": null,
            "top": null,
            "visibility": null,
            "width": null
          }
        },
        "ab552314aab04e0582031157ff958ade": {
          "model_module": "@jupyter-widgets/controls",
          "model_module_version": "1.5.0",
          "model_name": "HBoxModel",
          "state": {
            "_dom_classes": [],
            "_model_module": "@jupyter-widgets/controls",
            "_model_module_version": "1.5.0",
            "_model_name": "HBoxModel",
            "_view_count": null,
            "_view_module": "@jupyter-widgets/controls",
            "_view_module_version": "1.5.0",
            "_view_name": "HBoxView",
            "box_style": "",
            "children": [
              "IPY_MODEL_5a7ba00d0c8c40cea513151c91c1226b",
              "IPY_MODEL_83b4e71f907141bcb72f6ec7f6e324e5",
              "IPY_MODEL_6da23fa42417422fb52ff4166db523cc"
            ],
            "layout": "IPY_MODEL_96e1314152a94302b64da8d29f2ab903"
          }
        },
        "b26f3e67b29248a38854f9ddf0c4765d": {
          "model_module": "@jupyter-widgets/controls",
          "model_module_version": "1.5.0",
          "model_name": "DescriptionStyleModel",
          "state": {
            "_model_module": "@jupyter-widgets/controls",
            "_model_module_version": "1.5.0",
            "_model_name": "DescriptionStyleModel",
            "_view_count": null,
            "_view_module": "@jupyter-widgets/base",
            "_view_module_version": "1.2.0",
            "_view_name": "StyleView",
            "description_width": ""
          }
        },
        "c8bf13d01fdd4fdfa066e65244507263": {
          "model_module": "@jupyter-widgets/controls",
          "model_module_version": "1.5.0",
          "model_name": "ProgressStyleModel",
          "state": {
            "_model_module": "@jupyter-widgets/controls",
            "_model_module_version": "1.5.0",
            "_model_name": "ProgressStyleModel",
            "_view_count": null,
            "_view_module": "@jupyter-widgets/base",
            "_view_module_version": "1.2.0",
            "_view_name": "StyleView",
            "bar_color": null,
            "description_width": ""
          }
        },
        "ca283a50d8e5400a9ef2461de223f3df": {
          "model_module": "@jupyter-widgets/controls",
          "model_module_version": "1.5.0",
          "model_name": "FloatProgressModel",
          "state": {
            "_dom_classes": [],
            "_model_module": "@jupyter-widgets/controls",
            "_model_module_version": "1.5.0",
            "_model_name": "FloatProgressModel",
            "_view_count": null,
            "_view_module": "@jupyter-widgets/controls",
            "_view_module_version": "1.5.0",
            "_view_name": "ProgressView",
            "bar_style": "",
            "description": "",
            "description_tooltip": null,
            "layout": "IPY_MODEL_83b31e24027d4c33a99ad422c7b90ae9",
            "max": 48,
            "min": 0,
            "orientation": "horizontal",
            "style": "IPY_MODEL_c8bf13d01fdd4fdfa066e65244507263",
            "value": 0
          }
        },
        "efdf086202ba47e5af85e451b92cc813": {
          "model_module": "@jupyter-widgets/controls",
          "model_module_version": "1.5.0",
          "model_name": "ProgressStyleModel",
          "state": {
            "_model_module": "@jupyter-widgets/controls",
            "_model_module_version": "1.5.0",
            "_model_name": "ProgressStyleModel",
            "_view_count": null,
            "_view_module": "@jupyter-widgets/base",
            "_view_module_version": "1.2.0",
            "_view_name": "StyleView",
            "bar_color": null,
            "description_width": ""
          }
        },
        "f338f09e13e74d3492baf69f1d5b05e2": {
          "model_module": "@jupyter-widgets/controls",
          "model_module_version": "1.5.0",
          "model_name": "DescriptionStyleModel",
          "state": {
            "_model_module": "@jupyter-widgets/controls",
            "_model_module_version": "1.5.0",
            "_model_name": "DescriptionStyleModel",
            "_view_count": null,
            "_view_module": "@jupyter-widgets/base",
            "_view_module_version": "1.2.0",
            "_view_name": "StyleView",
            "description_width": ""
          }
        },
        "f4573961ce8c44e9982c751dfdd44ab7": {
          "model_module": "@jupyter-widgets/controls",
          "model_module_version": "1.5.0",
          "model_name": "HTMLModel",
          "state": {
            "_dom_classes": [],
            "_model_module": "@jupyter-widgets/controls",
            "_model_module_version": "1.5.0",
            "_model_name": "HTMLModel",
            "_view_count": null,
            "_view_module": "@jupyter-widgets/controls",
            "_view_module_version": "1.5.0",
            "_view_name": "HTMLView",
            "description": "",
            "description_tooltip": null,
            "layout": "IPY_MODEL_3273639bb6494da4a55f6a3128204f1b",
            "placeholder": "​",
            "style": "IPY_MODEL_b26f3e67b29248a38854f9ddf0c4765d",
            "value": "Generating valid split: "
          }
        },
        "f9b5fc5d0cb9453ab8b32670a9854d0b": {
          "model_module": "@jupyter-widgets/controls",
          "model_module_version": "1.5.0",
          "model_name": "DescriptionStyleModel",
          "state": {
            "_model_module": "@jupyter-widgets/controls",
            "_model_module_version": "1.5.0",
            "_model_name": "DescriptionStyleModel",
            "_view_count": null,
            "_view_module": "@jupyter-widgets/base",
            "_view_module_version": "1.2.0",
            "_view_name": "StyleView",
            "description_width": ""
          }
        }
      }
    }
  },
  "nbformat": 4,
  "nbformat_minor": 0
}
